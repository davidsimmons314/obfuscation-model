{
 "cells": [
  {
   "cell_type": "code",
   "execution_count": 1,
   "id": "d21fc606-b7f0-4e76-8204-0fa05f17c155",
   "metadata": {},
   "outputs": [],
   "source": [
    "# David Simmons"
   ]
  },
  {
   "cell_type": "code",
   "execution_count": 2,
   "id": "96094b1d-ecb6-4c02-b758-5f48c998995a",
   "metadata": {},
   "outputs": [],
   "source": [
    "from nltk import tokenize\n",
    "import random\n",
    "import pandas as pd\n",
    "from datetime import datetime\n",
    "import gensim\n",
    "\n",
    "# Load Google's pre-trained Word2Vec model.\n",
    "#model = gensim.models.Word2Vec.load_word2vec_format('./model/GoogleNews-vectors-negative300.bin', binary=True)\n",
    "word2vec = gensim.models.KeyedVectors.load_word2vec_format(\"GoogleNews-vectors-negative300.bin.gz\", binary=True)"
   ]
  },
  {
   "cell_type": "code",
   "execution_count": 3,
   "id": "62619a5c-a66c-4ef0-8826-774174615897",
   "metadata": {},
   "outputs": [],
   "source": [
    "with open('female.txt', 'r', encoding='utf-8') as f:\n",
    "    female_words = f.read().split()\n",
    "    num_female_words = len(female_words)\n",
    "    \n",
    "female_words_w2v = []\n",
    "female_words_not_w2v = []\n",
    "\n",
    "for word in female_words:\n",
    "    if word in word2vec.key_to_index.keys():\n",
    "        female_words_w2v.append(word)\n",
    "    else:\n",
    "        female_words_not_w2v.append(word)\n",
    "    \n",
    "with open('male.txt', 'r', encoding='utf-8') as f:\n",
    "    male_words = f.read().split()\n",
    "    num_male_words = len(male_words)\n",
    "    \n",
    "male_words_w2v = []\n",
    "male_words_not_w2v = []\n",
    "\n",
    "for word in male_words:\n",
    "    if word in word2vec.key_to_index.keys():\n",
    "        male_words_w2v.append(word)\n",
    "    else:\n",
    "        male_words_not_w2v.append(word)"
   ]
  },
  {
   "cell_type": "code",
   "execution_count": 32,
   "id": "e979acf6-4a0f-4b0e-a9a3-ed2a025feb01",
   "metadata": {},
   "outputs": [],
   "source": [
    "def obfuscate_text(row):\n",
    "    text = row['post_text']\n",
    "    parsed_text = tokenize.word_tokenize(text)\n",
    "    obfuscated_text = ''\n",
    "    if row['op_gender'] == 'W':\n",
    "        for token in parsed_text:\n",
    "            if token in female_words and random.random() <= 0.66667:\n",
    "                obfuscated_text += male_words[random.randint(0, num_male_words-1)] + ' '\n",
    "            else:\n",
    "                obfuscated_text += token + ' '\n",
    "        \n",
    "    elif row['op_gender'] == 'M':\n",
    "        for token in parsed_text:\n",
    "            if token in male_words and random.random() <= 0.66667:\n",
    "                obfuscated_text += female_words[random.randint(0, num_female_words-1)] + ' '\n",
    "            else:\n",
    "                obfuscated_text += token + ' '\n",
    "        \n",
    "    dataset.at[row.name, 'post_text'] = obfuscated_text"
   ]
  },
  {
   "cell_type": "code",
   "execution_count": 33,
   "id": "82a4998e-a9c7-46d6-b526-a339423f0581",
   "metadata": {},
   "outputs": [],
   "source": [
    "dataset = pd.read_csv('dataset.csv')"
   ]
  },
  {
   "cell_type": "code",
   "execution_count": 34,
   "id": "f67d0fbd-6926-41cb-8646-d22a7c60074a",
   "metadata": {},
   "outputs": [
    {
     "name": "stdout",
     "output_type": "stream",
     "text": [
      "total time: 0:00:03.034435\n"
     ]
    }
   ],
   "source": [
    "start_time = datetime.now()\n",
    "dataset.apply(obfuscate_text, axis=1)\n",
    "end_time = datetime.now()\n",
    "total_time = end_time-start_time\n",
    "\n",
    "print('total time:', total_time)"
   ]
  },
  {
   "cell_type": "code",
   "execution_count": 35,
   "id": "f368d93a-cf5d-41ca-b040-739f559acc5d",
   "metadata": {},
   "outputs": [],
   "source": [
    "dataset.to_csv('obfuscated_modified_dataset.csv', index=False)"
   ]
  },
  {
   "cell_type": "code",
   "execution_count": null,
   "id": "8e61c924-0906-4eb7-9c8c-1efae436e522",
   "metadata": {},
   "outputs": [],
   "source": []
  }
 ],
 "metadata": {
  "kernelspec": {
   "display_name": "Python 3",
   "language": "python",
   "name": "python3"
  },
  "language_info": {
   "codemirror_mode": {
    "name": "ipython",
    "version": 3
   },
   "file_extension": ".py",
   "mimetype": "text/x-python",
   "name": "python",
   "nbconvert_exporter": "python",
   "pygments_lexer": "ipython3",
   "version": "3.8.8"
  }
 },
 "nbformat": 4,
 "nbformat_minor": 5
}
