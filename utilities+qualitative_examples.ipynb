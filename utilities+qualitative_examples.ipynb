{
 "cells": [
  {
   "cell_type": "code",
   "execution_count": 1,
   "id": "cff2aa2b-4029-473e-bfcf-ebbf4d9a71a2",
   "metadata": {},
   "outputs": [],
   "source": [
    "from nltk import tokenize\n",
    "import pandas as pd\n",
    "from datetime import datetime"
   ]
  },
  {
   "cell_type": "code",
   "execution_count": 2,
   "id": "0767a76e-fe69-4192-b39d-8bedaaa26c57",
   "metadata": {},
   "outputs": [],
   "source": [
    "dataset = pd.read_csv('dataset.csv')"
   ]
  },
  {
   "cell_type": "code",
   "execution_count": 3,
   "id": "96707481-c4cf-4fd5-8e0b-5cf14cf05637",
   "metadata": {},
   "outputs": [],
   "source": [
    "def lowercase_whitespace_sep_text(row):\n",
    "    text = row['post_text'].lower()\n",
    "    parsed_text = tokenize.word_tokenize(text)\n",
    "    modified_text = ''\n",
    "    for token in parsed_text:\n",
    "        modified_text += token + ' '\n",
    "        \n",
    "    dataset.at[row.name, 'post_text'] = modified_text"
   ]
  },
  {
   "cell_type": "code",
   "execution_count": 4,
   "id": "02cf2e15-d6e5-4ada-ba6f-6b397cda4f02",
   "metadata": {},
   "outputs": [
    {
     "name": "stdout",
     "output_type": "stream",
     "text": [
      "total time: 0:00:00.913819\n"
     ]
    }
   ],
   "source": [
    "start_time = datetime.now()\n",
    "dataset.apply(lowercase_whitespace_sep_text, axis=1)\n",
    "end_time = datetime.now()\n",
    "total_time = end_time-start_time\n",
    "\n",
    "print('total time:', total_time)"
   ]
  },
  {
   "cell_type": "code",
   "execution_count": 5,
   "id": "e95088a8-ba87-42b1-8ba6-0324053920b1",
   "metadata": {},
   "outputs": [],
   "source": [
    "dataset.to_csv('dataset.csv', index=False)"
   ]
  },
  {
   "cell_type": "code",
   "execution_count": 16,
   "id": "ee2440d6-567f-4947-b13a-fc2c27d68135",
   "metadata": {},
   "outputs": [],
   "source": [
    "dataset = pd.read_csv('dataset.csv')\n",
    "obfuscated_random_dataset = pd.read_csv('obfuscated_random_dataset.csv')\n",
    "obfuscated_similarity_dataset = pd.read_csv('obfuscated_similarity_dataset.csv')\n",
    "obfuscated_modified_dataset = pd.read_csv('obfuscated_modified_dataset.csv')"
   ]
  },
  {
   "cell_type": "code",
   "execution_count": 17,
   "id": "e828c6c9-8350-40f5-9d5a-7727e9ec61ad",
   "metadata": {},
   "outputs": [
    {
     "name": "stdout",
     "output_type": "stream",
     "text": [
      "if i was her i would just report the card as a lost card ( important : lost _after_ the last purchase made with it to avoid suspicion of fraud ) and take the $ 120 loss if the person owing me does not pay up . i have reported a lost card without having to file any police report so i know it at least is possible to do in sweden . edit : you could probably just also explain the true story to the bank . i do not think they would care much . \n"
     ]
    }
   ],
   "source": [
    "print(dataset['post_text'][44])"
   ]
  },
  {
   "cell_type": "code",
   "execution_count": 18,
   "id": "46c9e730-349b-4df5-bd95-e5e5d5bd42d0",
   "metadata": {},
   "outputs": [
    {
     "name": "stdout",
     "output_type": "stream",
     "text": [
      "tablespoon i was her i would just report hehe card tobiko anxious lost card ( important : lost _after_ but last purchase made with it to until suspicion tragus fraud ) and take option grilled 120 loss pistachio friends person owing me bachlorette nachos pay up saw i have apt bechamel lost card gmos having to file mojito rudely report so i know it iced topshop bloody chaotic to do flatbread sweden umm megan : bachelorette could sitting just also explain bramble christine dryers to plates bank vegan/vegetarian i do mushy think they would care much bramble \n"
     ]
    }
   ],
   "source": [
    "print(obfuscated_random_dataset['post_text'][44])"
   ]
  },
  {
   "cell_type": "code",
   "execution_count": 19,
   "id": "ebf8614a-309b-4889-83f2-00c5d0b26003",
   "metadata": {},
   "outputs": [
    {
     "name": "stdout",
     "output_type": "stream",
     "text": [
      "anyway i was her i would just report however card such a lost card ( important : lost _after_ however last purchase made with it to resist suspicion of fraud ) and take however million 120 loss anyway however person owing me did did pay up . i have told a lost card before having to file anything woman report so i know it before only was could to do outside sweden . customize : we could anyway just also explain however dream storyline to however bank . i do did think they would care much . \n"
     ]
    }
   ],
   "source": [
    "print(obfuscated_similarity_dataset['post_text'][44])"
   ]
  },
  {
   "cell_type": "code",
   "execution_count": 20,
   "id": "fa372bd5-beeb-4230-a02d-51469f3abf71",
   "metadata": {},
   "outputs": [
    {
     "name": "stdout",
     "output_type": "stream",
     "text": [
      "tuscan i was her i would just report plush card lick meh lost card ( important : lost _after_ tch last purchase made with it to tote suspicion of fraud ) and take cannoli man-friend 120 loss thoughtful nonprofit person owing me slushes love pay up cobb i have =d a lost card without having to file ourselves cosmetics report so i know it cereal snazzy chocoholic carded to do condensed sweden . zucchini : thank could loudly just also explain floating duchess stairs to the bank pomegranate i do dense think they would care much tuesdays \n"
     ]
    }
   ],
   "source": [
    "print(obfuscated_modified_dataset['post_text'][44])"
   ]
  },
  {
   "cell_type": "code",
   "execution_count": null,
   "id": "9b4e7ad9-68d4-436b-907f-647b09e06a21",
   "metadata": {},
   "outputs": [],
   "source": []
  },
  {
   "cell_type": "code",
   "execution_count": null,
   "id": "3fe0cf54-213f-4fd2-ab08-eab1a79a8347",
   "metadata": {},
   "outputs": [],
   "source": []
  }
 ],
 "metadata": {
  "kernelspec": {
   "display_name": "Python 3",
   "language": "python",
   "name": "python3"
  },
  "language_info": {
   "codemirror_mode": {
    "name": "ipython",
    "version": 3
   },
   "file_extension": ".py",
   "mimetype": "text/x-python",
   "name": "python",
   "nbconvert_exporter": "python",
   "pygments_lexer": "ipython3",
   "version": "3.8.8"
  }
 },
 "nbformat": 4,
 "nbformat_minor": 5
}
